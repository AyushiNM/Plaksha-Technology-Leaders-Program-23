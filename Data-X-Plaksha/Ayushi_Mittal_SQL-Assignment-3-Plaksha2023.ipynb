{
 "cells": [
  {
   "cell_type": "markdown",
   "id": "b3d08535",
   "metadata": {},
   "source": [
    "<img src=\"https://raw.githubusercontent.com/afo/data-x-plaksha/master/imgsource/dx_logo.png\" align=\"left\"></img><br><br><br><br>"
   ]
  },
  {
   "cell_type": "markdown",
   "id": "4c408082",
   "metadata": {},
   "source": [
    "## Plaksha SQL assignment"
   ]
  },
  {
   "cell_type": "markdown",
   "id": "7f7d4113-c3a9-47b2-b7df-b844d49abd22",
   "metadata": {},
   "source": [
    "---\n",
    "\n",
    "## Submission details:\n",
    "\n",
    "Please submit this as a Jupyter Notebook and a PDF of your results (both should show output). Also push your solutions to Github.\n",
    "\n",
    "For the submision create a local database with `sqlite3` or `sqlalchemy` in a Jupyter notebook and make the queries either with a cursor object (and then print the results) or by using pandas `pd.read_sql_query()`."
   ]
  },
  {
   "cell_type": "markdown",
   "id": "0c551f03-7eff-43e2-89a7-a53b54098223",
   "metadata": {},
   "source": [
    "___\n",
    "\n",
    "When completing this homework you can experiment with SQL commands by utilizing this great online editor:\n",
    "\n",
    "https://www.w3schools.com/sql/trysql.asp?filename=trysql_select_all\n",
    "\n",
    "There are already some tables in the online Database, namely:\n",
    "\n",
    "`Categories, Employees, OrderDetails, Orders, Products, Shippers, and Suppliers.`\n",
    "\n",
    "If you want you can drop them by running  `DROP TABLE [table-name];` (or just keep them)."
   ]
  },
  {
   "cell_type": "markdown",
   "id": "dccc820f-21b0-4b2c-9ca8-9cb9eab76023",
   "metadata": {},
   "source": [
    "___\n",
    "\n",
    "## Exercises:\n",
    "\n",
    "First create a table called students. It has the columns: 'student_id', 'name', 'major', 'gpa' and 'enrollment_date' We will use a new form of `CREATE TABLE` expression to produce this table.\n",
    "\n",
    "Note that you can improve this and are welcome to do so -- e.g. by specifying for example a PRIMARY KEY and a FOREIGN KEY in Q2 :)\n",
    "\n",
    "    CREATE TABLE students AS\n",
    "        SELECT 1 AS student_id, \"John\" AS name, \"Computer Science\" AS major, 3.5 AS gpa, \"01-01-2022\" AS enrollment_date UNION\n",
    "        SELECT 2, \"Jane\", \"Physics\", 3.8, \"01-02-2022\" UNION\n",
    "        SELECT 3, \"Bob\", \"Engineering\", 3.0, \"01-03-2022\" UNION\n",
    "        SELECT 4, \"Samantha\", \"Physics\", 3.9, \"01-04-2022\" UNION\n",
    "        SELECT 5, \"James\", \"Engineering\", 3.7, \"01-05-2022\" UNION\n",
    "        SELECT 6, \"Emily\", \"Computer Science\", 3.6, \"01-06-2022\" UNION\n",
    "        SELECT 7, \"Michael\", \"Computer Science\", 3.2, \"01-07-2022\" UNION\n",
    "        SELECT 8, \"Jessica\", \"Engineering\", 3.8, \"01-08-2022\" UNION\n",
    "        SELECT 9, \"Jacob\", \"Physics\", 3.4, \"01-09-2022\" UNION\n",
    "        SELECT 10, \"Ashley\", \"Physics\", 3.9, \"01-10-2022\";\n",
    "\n",
    "\n",
    "## Q1 Simple SELECTS (on the students table)\n",
    "1. SELECT all records in the table.\n",
    "2. SELECT students whose major is \"Computer Science\".\n",
    "3. SELECT all unique majors (use SELECT DISTINCT) and order them by name, descending order (i.e. Physics first).\n",
    "4. SELECT all students that have an 'e' in their name and order them by gpa in ascending order.\n",
    "\n",
    "\n",
    "## Q2 Joins\n",
    "\n",
    "Create a new table called courses, which indicates the courses taken by the students. \n",
    "\n",
    "Create the table by running:\n",
    "\t\n",
    "    CREATE TABLE courses AS\n",
    "        SELECT 1 AS course_id, \"Python programming\" AS course_name, 1 AS student_id, \"A\" AS grade UNION\n",
    "        SELECT 2, \"Data Structures\", 2, \"B\" UNION\n",
    "        SELECT 3, \"Database Systems\", 3, \"B\" UNION\n",
    "        SELECT 1, \"Python programming\", 4, \"A\" UNION\n",
    "        SELECT 4, \"Quantum Mechanics\", 5, \"C\" UNION\n",
    "        SELECT 1, \"Python programming\", 6, \"F\" UNION\n",
    "        SELECT 2, \"Data Structures\", 7, \"C\" UNION\n",
    "        SELECT 3, \"Database Systems\", 8, \"A\" UNION\n",
    "        SELECT 4, \"Quantum Mechanics\", 9, \"A\" UNION\n",
    "        SELECT 2, \"Data Structures\", 10, \"F\";\n",
    "\n",
    "1. COUNT the number of unique courses.\n",
    "2. JOIN the tables students and courses and COUNT the number of students with the major Computer Science taking the course Python programming.\n",
    "3. JOIN the tables students and courses and select the students who have grades higher than \"C\", only show their name, major, gpa, course_name and grade.\n",
    "\n",
    "\n",
    "## Q3 Aggregate functions, numerical logic and grouping\n",
    "\n",
    "1. Find the average gpa of all students.\n",
    "2. SELECT the student with the maximum gpa, display only their student_id, major and gpa\n",
    "3. SELECT the student with the minimum gpa, display only their student_id, major and gpa\n",
    "4. SELECT the students with a gpa greater than 3.6 in the majors of \"Physics\" and \"Engineering\", display only their student_id, major and gpa\n",
    "5. Group the students by their major and retrieve the average grade of each major.\n",
    "6. SELECT the top 2 students with the highest GPA in each major and order the results by major in ascending order, then by GPA in descending order"
   ]
  },
  {
   "cell_type": "markdown",
   "id": "3ab84519",
   "metadata": {},
   "source": [
    "# Your solution"
   ]
  },
  {
   "cell_type": "code",
   "execution_count": 1,
   "id": "c7cff114",
   "metadata": {},
   "outputs": [],
   "source": [
    "import sqlite3"
   ]
  },
  {
   "cell_type": "code",
   "execution_count": 34,
   "id": "ea815a83",
   "metadata": {},
   "outputs": [],
   "source": [
    "# Connect to the database file 'company.db' using the sqlite3 library\n",
    "connection = sqlite3.connect('company.db')"
   ]
  },
  {
   "cell_type": "code",
   "execution_count": 35,
   "id": "b7062987",
   "metadata": {},
   "outputs": [],
   "source": [
    "# Create a cursor object to execute SQL commands\n",
    "cursor = connection.cursor()"
   ]
  },
  {
   "cell_type": "markdown",
   "id": "6a544cdb",
   "metadata": {},
   "source": [
    "### Question 1"
   ]
  },
  {
   "cell_type": "code",
   "execution_count": 3,
   "id": "aa5d4758",
   "metadata": {},
   "outputs": [],
   "source": [
    "sql_command = \"\"\"CREATE TABLE students AS\n",
    "    SELECT 1 AS student_id, \"John\" AS name, \"Computer Science\" AS major, 3.5 AS gpa, \"01-01-2022\" AS enrollment_date UNION\n",
    "    SELECT 2, \"Jane\", \"Physics\", 3.8, \"01-02-2022\" UNION\n",
    "    SELECT 3, \"Bob\", \"Engineering\", 3.0, \"01-03-2022\" UNION\n",
    "    SELECT 4, \"Samantha\", \"Physics\", 3.9, \"01-04-2022\" UNION\n",
    "    SELECT 5, \"James\", \"Engineering\", 3.7, \"01-05-2022\" UNION\n",
    "    SELECT 6, \"Emily\", \"Computer Science\", 3.6, \"01-06-2022\" UNION\n",
    "    SELECT 7, \"Michael\", \"Computer Science\", 3.2, \"01-07-2022\" UNION\n",
    "    SELECT 8, \"Jessica\", \"Engineering\", 3.8, \"01-08-2022\" UNION\n",
    "    SELECT 9, \"Jacob\", \"Physics\", 3.4, \"01-09-2022\" UNION\n",
    "    SELECT 10, \"Ashley\", \"Physics\", 3.9, \"01-10-2022\";\"\"\""
   ]
  },
  {
   "cell_type": "code",
   "execution_count": 5,
   "id": "a979f181",
   "metadata": {},
   "outputs": [],
   "source": [
    "cursor.execute(sql_command) # create students table by executing the query using cursor object"
   ]
  },
  {
   "cell_type": "markdown",
   "id": "588a1ddd",
   "metadata": {},
   "source": [
    "**1. SELECT all records in the table.**"
   ]
  },
  {
   "cell_type": "code",
   "execution_count": 36,
   "id": "749d8455",
   "metadata": {},
   "outputs": [],
   "source": [
    "result = cursor.execute('SELECT * FROM students;')"
   ]
  },
  {
   "cell_type": "code",
   "execution_count": 37,
   "id": "03962e92",
   "metadata": {},
   "outputs": [
    {
     "name": "stdout",
     "output_type": "stream",
     "text": [
      "(1, 'John', 'Computer Science', 3.5, '01-01-2022')\n",
      "(2, 'Jane', 'Physics', 3.8, '01-02-2022')\n",
      "(3, 'Bob', 'Engineering', 3.0, '01-03-2022')\n",
      "(4, 'Samantha', 'Physics', 3.9, '01-04-2022')\n",
      "(5, 'James', 'Engineering', 3.7, '01-05-2022')\n",
      "(6, 'Emily', 'Computer Science', 3.6, '01-06-2022')\n",
      "(7, 'Michael', 'Computer Science', 3.2, '01-07-2022')\n",
      "(8, 'Jessica', 'Engineering', 3.8, '01-08-2022')\n",
      "(9, 'Jacob', 'Physics', 3.4, '01-09-2022')\n",
      "(10, 'Ashley', 'Physics', 3.9, '01-10-2022')\n"
     ]
    }
   ],
   "source": [
    "for row in result.fetchall():\n",
    "    print(row)"
   ]
  },
  {
   "cell_type": "markdown",
   "id": "9e7db34a",
   "metadata": {},
   "source": [
    "**2. SELECT students whose major is \"Computer Science\".**"
   ]
  },
  {
   "cell_type": "code",
   "execution_count": 39,
   "id": "774b435e",
   "metadata": {},
   "outputs": [],
   "source": [
    "result = cursor.execute('SELECT * FROM students WHERE major = \"Computer Science\";')"
   ]
  },
  {
   "cell_type": "code",
   "execution_count": 40,
   "id": "e67180d4",
   "metadata": {},
   "outputs": [
    {
     "name": "stdout",
     "output_type": "stream",
     "text": [
      "(1, 'John', 'Computer Science', 3.5, '01-01-2022')\n",
      "(6, 'Emily', 'Computer Science', 3.6, '01-06-2022')\n",
      "(7, 'Michael', 'Computer Science', 3.2, '01-07-2022')\n"
     ]
    }
   ],
   "source": [
    "for row in result.fetchall():\n",
    "    print(row)"
   ]
  },
  {
   "cell_type": "markdown",
   "id": "839e3521",
   "metadata": {},
   "source": [
    "**3. SELECT all unique majors (use SELECT DISTINCT) and order them by name, descending order (i.e. Physics first).**"
   ]
  },
  {
   "cell_type": "code",
   "execution_count": 41,
   "id": "f6f42de6",
   "metadata": {},
   "outputs": [],
   "source": [
    "result = cursor.execute('SELECT DISTINCT(major) FROM students ORDER BY major DESC;')"
   ]
  },
  {
   "cell_type": "code",
   "execution_count": 42,
   "id": "c8736658",
   "metadata": {},
   "outputs": [
    {
     "name": "stdout",
     "output_type": "stream",
     "text": [
      "('Physics',)\n",
      "('Engineering',)\n",
      "('Computer Science',)\n"
     ]
    }
   ],
   "source": [
    "for row in result.fetchall():\n",
    "    print(row)"
   ]
  },
  {
   "cell_type": "markdown",
   "id": "7bcbc630",
   "metadata": {},
   "source": [
    "**4. SELECT all students that have an 'e' in their name and order them by gpa in ascending order.**"
   ]
  },
  {
   "cell_type": "code",
   "execution_count": 43,
   "id": "22b960c3",
   "metadata": {},
   "outputs": [],
   "source": [
    "result = cursor.execute('SELECT name FROM students WHERE name LIKE \"%e%\" ORDER BY gpa ASC;')"
   ]
  },
  {
   "cell_type": "code",
   "execution_count": 44,
   "id": "99dcdd0c",
   "metadata": {},
   "outputs": [
    {
     "name": "stdout",
     "output_type": "stream",
     "text": [
      "('Michael',)\n",
      "('Emily',)\n",
      "('James',)\n",
      "('Jane',)\n",
      "('Jessica',)\n",
      "('Ashley',)\n"
     ]
    }
   ],
   "source": [
    "for row in result.fetchall():\n",
    "    print(row)"
   ]
  },
  {
   "cell_type": "markdown",
   "id": "73dc34fd",
   "metadata": {},
   "source": [
    "### Question 2"
   ]
  },
  {
   "cell_type": "code",
   "execution_count": 46,
   "id": "33e29b43",
   "metadata": {},
   "outputs": [],
   "source": [
    "sql_command = \"\"\"CREATE TABLE courses AS\n",
    "    SELECT 1 AS course_id, \"Python programming\" AS course_name, 1 AS student_id, \"A\" AS grade UNION\n",
    "    SELECT 2, \"Data Structures\", 2, \"B\" UNION\n",
    "    SELECT 3, \"Database Systems\", 3, \"B\" UNION\n",
    "    SELECT 1, \"Python programming\", 4, \"A\" UNION\n",
    "    SELECT 4, \"Quantum Mechanics\", 5, \"C\" UNION\n",
    "    SELECT 1, \"Python programming\", 6, \"F\" UNION\n",
    "    SELECT 2, \"Data Structures\", 7, \"C\" UNION\n",
    "    SELECT 3, \"Database Systems\", 8, \"A\" UNION\n",
    "    SELECT 4, \"Quantum Mechanics\", 9, \"A\" UNION\n",
    "    SELECT 2, \"Data Structures\", 10, \"F\";\"\"\""
   ]
  },
  {
   "cell_type": "code",
   "execution_count": null,
   "id": "432e2b8a",
   "metadata": {},
   "outputs": [],
   "source": [
    "cursor.execute(sql_command) # create courses table by executing the query using cursor object"
   ]
  },
  {
   "cell_type": "markdown",
   "id": "e67e67a7",
   "metadata": {},
   "source": [
    "**1. COUNT the number of unique courses.**"
   ]
  },
  {
   "cell_type": "code",
   "execution_count": 47,
   "id": "b58ed79b",
   "metadata": {},
   "outputs": [],
   "source": [
    "result = cursor.execute('SELECT COUNT(DISTINCT(course_name)) FROM courses;')"
   ]
  },
  {
   "cell_type": "code",
   "execution_count": 48,
   "id": "f0584c9b",
   "metadata": {},
   "outputs": [
    {
     "name": "stdout",
     "output_type": "stream",
     "text": [
      "(4,)\n"
     ]
    }
   ],
   "source": [
    "for row in result.fetchall():\n",
    "    print(row)"
   ]
  },
  {
   "cell_type": "markdown",
   "id": "0eba11e6",
   "metadata": {},
   "source": [
    "**2. JOIN the tables students and courses and COUNT the number of students with the major Computer Science taking the course Python programming.**"
   ]
  },
  {
   "cell_type": "code",
   "execution_count": 49,
   "id": "009d397a",
   "metadata": {},
   "outputs": [],
   "source": [
    "result = cursor.execute('SELECT COUNT(DISTINCT(name)) FROM students AS s INNER JOIN courses AS c USING(student_id) WHERE s.major = \"Computer Science\" AND c.course_name = \"Python programming\";')"
   ]
  },
  {
   "cell_type": "code",
   "execution_count": 50,
   "id": "8fab70e7",
   "metadata": {},
   "outputs": [
    {
     "name": "stdout",
     "output_type": "stream",
     "text": [
      "(2,)\n"
     ]
    }
   ],
   "source": [
    "for row in result.fetchall():\n",
    "    print(row)"
   ]
  },
  {
   "cell_type": "markdown",
   "id": "d911e9f5",
   "metadata": {},
   "source": [
    "**3. JOIN the tables students and courses and select the students who have grades higher than \"C\", only show their name, major, gpa, course_name and grade.**"
   ]
  },
  {
   "cell_type": "code",
   "execution_count": 51,
   "id": "0cfbfe66",
   "metadata": {},
   "outputs": [],
   "source": [
    "result = cursor.execute('SELECT s.name, s.major, s.gpa, c.course_name, c.grade FROM students AS s INNER JOIN courses AS c USING(student_id) WHERE c.grade < \"C\";')"
   ]
  },
  {
   "cell_type": "code",
   "execution_count": 52,
   "id": "ac705dcc",
   "metadata": {},
   "outputs": [
    {
     "name": "stdout",
     "output_type": "stream",
     "text": [
      "('John', 'Computer Science', 3.5, 'Python programming', 'A')\n",
      "('Samantha', 'Physics', 3.9, 'Python programming', 'A')\n",
      "('Jane', 'Physics', 3.8, 'Data Structures', 'B')\n",
      "('Bob', 'Engineering', 3.0, 'Database Systems', 'B')\n",
      "('Jessica', 'Engineering', 3.8, 'Database Systems', 'A')\n",
      "('Jacob', 'Physics', 3.4, 'Quantum Mechanics', 'A')\n"
     ]
    }
   ],
   "source": [
    "for row in result.fetchall():\n",
    "    print(row)"
   ]
  },
  {
   "cell_type": "markdown",
   "id": "ee869944",
   "metadata": {},
   "source": [
    "### Question 3"
   ]
  },
  {
   "cell_type": "markdown",
   "id": "b3de5dc2",
   "metadata": {},
   "source": [
    "**1. Find the average gpa of all students.**"
   ]
  },
  {
   "cell_type": "code",
   "execution_count": 53,
   "id": "3ef8b686",
   "metadata": {},
   "outputs": [],
   "source": [
    "result = cursor.execute('SELECT AVG(gpa) FROM students;')"
   ]
  },
  {
   "cell_type": "code",
   "execution_count": 54,
   "id": "b32d3b72",
   "metadata": {},
   "outputs": [
    {
     "name": "stdout",
     "output_type": "stream",
     "text": [
      "(3.5800000000000005,)\n"
     ]
    }
   ],
   "source": [
    "for row in result.fetchall():\n",
    "    print(row)"
   ]
  },
  {
   "cell_type": "markdown",
   "id": "08644f02",
   "metadata": {},
   "source": [
    "**2. SELECT the student with the maximum gpa, display only their student_id, major and gpa**"
   ]
  },
  {
   "cell_type": "code",
   "execution_count": 55,
   "id": "b3158c76",
   "metadata": {},
   "outputs": [],
   "source": [
    "result = cursor.execute('SELECT student_id, major, MAX(gpa) FROM students;')"
   ]
  },
  {
   "cell_type": "code",
   "execution_count": 56,
   "id": "ee8e8fab",
   "metadata": {},
   "outputs": [
    {
     "name": "stdout",
     "output_type": "stream",
     "text": [
      "(4, 'Physics', 3.9)\n"
     ]
    }
   ],
   "source": [
    "for row in result.fetchall():\n",
    "    print(row)"
   ]
  },
  {
   "cell_type": "markdown",
   "id": "ca684a1a",
   "metadata": {},
   "source": [
    "**3. SELECT the student with the minimum gpa, display only their student_id, major and gpa**"
   ]
  },
  {
   "cell_type": "code",
   "execution_count": 57,
   "id": "3a0ce8a4",
   "metadata": {},
   "outputs": [],
   "source": [
    "result = cursor.execute('SELECT student_id, major, MIN(gpa) FROM students;')"
   ]
  },
  {
   "cell_type": "code",
   "execution_count": 58,
   "id": "1636f30e",
   "metadata": {},
   "outputs": [
    {
     "name": "stdout",
     "output_type": "stream",
     "text": [
      "(3, 'Engineering', 3.0)\n"
     ]
    }
   ],
   "source": [
    "for row in result.fetchall():\n",
    "    print(row)"
   ]
  },
  {
   "cell_type": "markdown",
   "id": "5fe7f4c2",
   "metadata": {},
   "source": [
    "**4. SELECT the students with a gpa greater than 3.6 in the majors of \"Physics\" and \"Engineering\", display only their student_id, major and gpa**"
   ]
  },
  {
   "cell_type": "code",
   "execution_count": 59,
   "id": "8f4d94b5",
   "metadata": {},
   "outputs": [],
   "source": [
    "result = cursor.execute('SELECT student_id, major, gpa FROM students WHERE (gpa > 3.6) AND (major = \"Physics\" OR major = \"Engineering\");')"
   ]
  },
  {
   "cell_type": "code",
   "execution_count": 60,
   "id": "02a8fe9d",
   "metadata": {},
   "outputs": [
    {
     "name": "stdout",
     "output_type": "stream",
     "text": [
      "(2, 'Physics', 3.8)\n",
      "(4, 'Physics', 3.9)\n",
      "(5, 'Engineering', 3.7)\n",
      "(8, 'Engineering', 3.8)\n",
      "(10, 'Physics', 3.9)\n"
     ]
    }
   ],
   "source": [
    "for row in result.fetchall():\n",
    "    print(row)"
   ]
  },
  {
   "cell_type": "markdown",
   "id": "a0c37f15",
   "metadata": {},
   "source": [
    "**5. Group the students by their major and retrieve the average grade of each major.**"
   ]
  },
  {
   "cell_type": "code",
   "execution_count": 61,
   "id": "99271c6b",
   "metadata": {},
   "outputs": [],
   "source": [
    "result = cursor.execute('SELECT major, AVG(gpa) FROM students GROUP BY major;')"
   ]
  },
  {
   "cell_type": "code",
   "execution_count": 62,
   "id": "c62226d5",
   "metadata": {},
   "outputs": [
    {
     "name": "stdout",
     "output_type": "stream",
     "text": [
      "('Computer Science', 3.4333333333333336)\n",
      "('Engineering', 3.5)\n",
      "('Physics', 3.75)\n"
     ]
    }
   ],
   "source": [
    "for row in result.fetchall():\n",
    "    print(row)"
   ]
  },
  {
   "cell_type": "markdown",
   "id": "b99d6005",
   "metadata": {},
   "source": [
    "**6. SELECT the top 2 students with the highest GPA in each major and order the results by major in ascending order, then by GPA in descending order**"
   ]
  },
  {
   "cell_type": "code",
   "execution_count": 63,
   "id": "c49b5ea2",
   "metadata": {},
   "outputs": [],
   "source": [
    "result = cursor.execute(\"\"\"\n",
    "WITH subquery AS (SELECT name, major, gpa, row_number() OVER (PARTITION BY major ORDER BY gpa DESC) AS rank FROM students)\n",
    "SELECT name, major, gpa FROM subquery WHERE rank <= 2 ORDER BY major, gpa DESC;\n",
    "\"\"\")"
   ]
  },
  {
   "cell_type": "code",
   "execution_count": 64,
   "id": "718ebfba",
   "metadata": {},
   "outputs": [
    {
     "name": "stdout",
     "output_type": "stream",
     "text": [
      "('Emily', 'Computer Science', 3.6)\n",
      "('John', 'Computer Science', 3.5)\n",
      "('Jessica', 'Engineering', 3.8)\n",
      "('James', 'Engineering', 3.7)\n",
      "('Samantha', 'Physics', 3.9)\n",
      "('Ashley', 'Physics', 3.9)\n"
     ]
    }
   ],
   "source": [
    "for row in result.fetchall():\n",
    "    print(row)"
   ]
  },
  {
   "cell_type": "code",
   "execution_count": null,
   "id": "d7f5c786",
   "metadata": {},
   "outputs": [],
   "source": []
  }
 ],
 "metadata": {
  "kernelspec": {
   "display_name": "Python 3 (ipykernel)",
   "language": "python",
   "name": "python3"
  },
  "language_info": {
   "codemirror_mode": {
    "name": "ipython",
    "version": 3
   },
   "file_extension": ".py",
   "mimetype": "text/x-python",
   "name": "python",
   "nbconvert_exporter": "python",
   "pygments_lexer": "ipython3",
   "version": "3.9.13"
  }
 },
 "nbformat": 4,
 "nbformat_minor": 5
}
